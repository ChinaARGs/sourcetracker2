{
 "cells": [
  {
   "cell_type": "markdown",
   "metadata": {},
   "source": [
    "## This notebook explains the theory behind microbial sourcetracking using a Gibb's sampler. \n",
    "\n",
    "## The theory and examples are based on work detailed in [Knights et al. 2011](http://www.nature.com/nmeth/journal/v8/n9/abs/nmeth.1650.html): if you find this work helpful please consider citing Dan Knights paper.\n",
    "\n",
    "\n",
    "#### Note:\n",
    "The formula for calculating the probability that a held-out sequence will be assigned to a given environment is reported incorrectly in [Knights et al. 2011](http://www.nature.com/nmeth/journal/v8/n9/abs/nmeth.1650.html). The corrected formula is:\n",
    "\n",
    "$$P( z_{i} = v \\mid  z^{ \\neg i}, x)  \\propto P(x_{i} \\mid v)  \\times P(v \\mid x^{ \\neg i}) = \\begin{cases}\n",
    "\\frac{m_{x_{i}v} + \\alpha_{1}}{m_{v} + \\tau \\alpha_{1}} \\times \\frac{n_{v}^{ \\neg i} + \\beta}{n - 1 + \\beta V} & v < V\n",
    "\\\\\n",
    "\\\\\n",
    "\\frac{m_{x_{i}v} + n \\alpha_{2}}{m_{v} + \\tau n \\alpha_{2}} \\times \\frac{n_{v}^{ \\neg i} + \\beta}{n - 1 + \\beta V} & v = V\n",
    "\\end{cases}$$\n",
    "\n",
    "This updated formula is what is truly being calculated by both the [R sourcetracking algorithm](https://github.com/danknights/sourcetracker) and this repository (personal communication with Dan Knights).\n"
   ]
  },
  {
   "cell_type": "markdown",
   "metadata": {},
   "source": [
    "## Problem\n",
    "\n",
    "Given a number of `sources`, determine the contribution of each `source` to a `sink`. "
   ]
  },
  {
   "cell_type": "markdown",
   "metadata": {},
   "source": [
    "The Gibb's sampler works in four basic steps:\n",
    "    1. Randomly assign the sequences in a sink to source environments.These random assignments represent which source a given sink sequence came from.\n",
    "    2. Select one of the sequences from step 1, calculate the *actual* probabilities of that sequence having come from any of the source environments, and update the assigned source environment of the sequence based on a random draw with the calculated probabilities. Repeat many times. \n",
    "    3. At intervals in the repeats of step 2, take the source environment assingments of all the sequences in a sink and record them. \n",
    "    4. After doing step 3 a certain number of times (i.e. recording the full assignments of source environments for each sink sequence), terminate the iteration and move to the next sink.  "
   ]
  },
  {
   "cell_type": "markdown",
   "metadata": {
    "collapsed": true
   },
   "source": [
    "## Machinery\n",
    "\n",
    "There are two matrices that form the basis of the Gibb's calculation. \n",
    "\n",
    "### `p_tv`\n",
    "The first is `p_tv`, the probability of seeing a taxon, given any of the sources. This matrix is calculated with the following sequence\n",
    "\n"
   ]
  },
  {
   "cell_type": "code",
   "execution_count": null,
   "metadata": {
    "collapsed": true
   },
   "outputs": [],
   "source": []
  },
  {
   "cell_type": "markdown",
   "metadata": {},
   "source": [
    "## Terminology\n",
    "\n",
    "**`Source`**: an"
   ]
  },
  {
   "cell_type": "code",
   "execution_count": null,
   "metadata": {
    "collapsed": true
   },
   "outputs": [],
   "source": []
  },
  {
   "cell_type": "code",
   "execution_count": null,
   "metadata": {
    "collapsed": true
   },
   "outputs": [],
   "source": []
  },
  {
   "cell_type": "code",
   "execution_count": null,
   "metadata": {
    "collapsed": true
   },
   "outputs": [],
   "source": []
  },
  {
   "cell_type": "code",
   "execution_count": null,
   "metadata": {
    "collapsed": true
   },
   "outputs": [],
   "source": []
  },
  {
   "cell_type": "code",
   "execution_count": null,
   "metadata": {
    "collapsed": true
   },
   "outputs": [],
   "source": []
  },
  {
   "cell_type": "code",
   "execution_count": null,
   "metadata": {
    "collapsed": true
   },
   "outputs": [],
   "source": []
  },
  {
   "cell_type": "code",
   "execution_count": null,
   "metadata": {
    "collapsed": true
   },
   "outputs": [],
   "source": []
  },
  {
   "cell_type": "code",
   "execution_count": null,
   "metadata": {
    "collapsed": true
   },
   "outputs": [],
   "source": []
  }
 ],
 "metadata": {
  "kernelspec": {
   "display_name": "Python 2",
   "language": "python",
   "name": "python2"
  },
  "language_info": {
   "codemirror_mode": {
    "name": "ipython",
    "version": 2
   },
   "file_extension": ".py",
   "mimetype": "text/x-python",
   "name": "python",
   "nbconvert_exporter": "python",
   "pygments_lexer": "ipython2",
   "version": "2.7.11"
  }
 },
 "nbformat": 4,
 "nbformat_minor": 0
}
